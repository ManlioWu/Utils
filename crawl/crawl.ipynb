{
 "cells": [
  {
   "cell_type": "code",
   "execution_count": 84,
   "metadata": {},
   "outputs": [],
   "source": [
    "import undetected_chromedriver as uc\n",
    "import time\n",
    "from selenium.webdriver.common.by import By\n",
    "\n",
    "driver = uc.Chrome()\n",
    "driver.get(\"https://www.science.org/action/doSearch?AllField=Artificial+Intelligence&SeriesKey=science&ConceptID=505154&AfterYear=1997&BeforeYear=2023&queryID=38%2F3168548807&startPage=0&sortBy=Earliest\")\n",
    "\n",
    "time.sleep(15)"
   ]
  },
  {
   "cell_type": "code",
   "execution_count": 79,
   "metadata": {},
   "outputs": [
    {
     "data": {
      "text/plain": [
       "7"
      ]
     },
     "execution_count": 79,
     "metadata": {},
     "output_type": "execute_result"
    }
   ],
   "source": [
    "page_item = driver.find_elements(By.CLASS_NAME, 'page-item')\n",
    "page_num = len(page_item) - 2\n",
    "page_num"
   ]
  },
  {
   "cell_type": "code",
   "execution_count": 85,
   "metadata": {},
   "outputs": [],
   "source": [
    "driver.find_element(By.CLASS_NAME, 'page-item__arrow--next').click()\n"
   ]
  },
  {
   "cell_type": "code",
   "execution_count": 78,
   "metadata": {},
   "outputs": [],
   "source": [
    "def crawl_one_paper(paper):\n",
    "    paper_item = paper.find_element(By.CLASS_NAME, 'text-reset.animation-underline')\n",
    "    title, url = paper_item.text, paper_item.get_attribute('href')\n",
    "    time = paper.find_element(By.TAG_NAME, 'time').text\n",
    "\n",
    "\n",
    "    try:\n",
    "        author_item = paper.find_elements(By.CLASS_NAME, \"hlFld-ContribAuthor\")\n",
    "        authors = []\n",
    "        for author in author_item:\n",
    "            authors.append(author.text)\n",
    "        authors = ', '.join(authors)\n",
    "    except Exception as e:\n",
    "        print(e)\n",
    "        authors = ''\n",
    "\n",
    "    return {\n",
    "        'Title' : f\"[{title}]({url})\",\n",
    "        'Author(s)' : authors,\n",
    "        'Published Date': time\n",
    "    }"
   ]
  },
  {
   "cell_type": "code",
   "execution_count": 77,
   "metadata": {},
   "outputs": [
    {
     "name": "stdout",
     "output_type": "stream",
     "text": [
      "{'Title': '[Lithium niobate photonics: Unlocking the electromagnetic spectrum](https://www.science.org/doi/10.1126/science.abj4396)', 'Author(s)': 'ANDREAS BOES, LIN CHANG, CARSTEN LANGROCK, MENGJIE YU, MIAN ZHANG, QIANG LIN, MARKO LONČAR, MARTIN FEJER, JOHN BOWERS, ARNAN MITCHELL', 'Published Date': '06 JAN 2023'}\n"
     ]
    }
   ],
   "source": [
    "paper = driver.find_element(By.CLASS_NAME, 'card.pb-3.mb-4.border-bottom')\n",
    "print(crawl_one_paper(paper))"
   ]
  },
  {
   "cell_type": "code",
   "execution_count": 47,
   "metadata": {},
   "outputs": [
    {
     "name": "stdout",
     "output_type": "stream",
     "text": [
      "REVIEW\n",
      "Lithium niobate photonics: Unlocking the electromagnetic spectrum\n",
      "Add to reading list\n",
      "BY ANDREAS BOES LIN CHANG CARSTEN LANGROCK MENGJIE YU MIAN ZHANG QIANG LIN MARKO LONČAR MARTIN FEJER JOHN BOWERS ARNAN MITCHELL SCIENCEVOL. 379, NO. 662706 JAN 2023\n",
      "NO ACCESS\n",
      "Lithium niobate (LN), first synthesized 70 years ago, has been widely used in diverse applications ranging from communications to quantum optics. These high-volume commercial applications have provided the economic means to establish a mature ...\n",
      "REVIEW\n",
      "Designing better electrolytes\n",
      "Add to reading list\n",
      "BY Y. SHIRLEY MENG VENKAT SRINIVASAN KANG XU SCIENCEVOL. 378, NO. 662409 DEC 2022\n",
      "NO ACCESS\n",
      "Electrolytes and the associated interphases constitute the critical components to support the emerging battery chemistries that promise tantalizing energy but involve drastic phase and structure complications. Designing better electrolytes and interphases ...\n",
      "RESEARCH ARTICLE\n",
      "Decoding CAR T cell phenotype using combinatorial signaling motif libraries and machine learning\n",
      "Add to reading list\n",
      "BY KYLE G. DANIELS SHANGYING WANG MILOS S. SIMIC HERSH K. BHARGAVA SARA CAPPONI YURIE TONAI WEI YU SIMONE BIANCO WENDELL A. LIM SCIENCEVOL. 378, NO. 662508 DEC 2022 : 1194-1200\n",
      "NO ACCESS\n",
      "Chimeric antigen receptor (CAR) costimulatory domains derived from native immune receptors steer the phenotypic output of therapeutic T cells. We constructed a library of CARs containing ~2300 synthetic costimulatory domains, built from combinations of 13 ...\n",
      "RESEARCH ARTICLE\n",
      "Competition-level code generation with AlphaCode\n",
      "Add to reading list\n",
      "BY YUJIA LI DAVID CHOI JUNYOUNG CHUNG NATE KUSHMAN JULIAN SCHRITTWIESER RÉMI LEBLOND TOM ECCLES JAMES KEELING FELIX GIMENO AGUSTIN DAL LAGO [...]ORIOL VINYALS\n",
      "+15 authors\n",
      "SCIENCEVOL. 378, NO. 662408 DEC 2022 : 1092-1097\n",
      "NO ACCESS\n",
      "Programming is a powerful and ubiquitous problem-solving tool. Systems that can assist programmers or even generate programs themselves could make programming more productive and accessible. Recent transformer-based neural network models show impressive ...\n",
      "RESEARCH ARTICLE\n",
      "Mastering the game of Stratego with model-free multiagent reinforcement learning\n",
      "Add to reading list\n",
      "BY JULIEN PEROLAT BART DE VYLDER DANIEL HENNES EUGENE TARASSOV FLORIAN STRUB VINCENT DE BOER PAUL MULLER JEROME T. CONNOR NEIL BURCH THOMAS ANTHONY [...]KARL TUYLS\n",
      "+23 authors\n",
      "SCIENCEVOL. 378, NO. 662301 DEC 2022 : 990-996\n",
      "NO ACCESS\n",
      "We introduce DeepNash, an autonomous agent that plays the imperfect information game Stratego at a human expert level. Stratego is one of the few iconic board games that artificial intelligence (AI) has not yet mastered. It is a game characterized by a ...\n",
      "RESEARCH ARTICLE\n",
      "Human-level play in the game of Diplomacy by combining language models with strategic reasoning\n",
      "Add to reading list\n",
      "BY META FUNDAMENTAL AI RESEARCH DIPLOMACY TEAM (FAIR)† ANTON BAKHTIN NOAM BROWN EMILY DINAN GABRIELE FARINA COLIN FLAHERTY DANIEL FRIED ANDREW GOFF JONATHAN GRAY HENGYUAN HU [...]MARKUS ZIJLSTRA\n",
      "+16 authors\n",
      "SCIENCEVOL. 378, NO. 662422 NOV 2022 : 1067-1074\n",
      "NO ACCESS\n",
      "Despite much progress in training artificial intelligence (AI) systems to imitate human language, building agents that use language to communicate intentionally with humans in interactive environments remains a major challenge. We introduce Cicero, the ...\n",
      "RESEARCH ARTICLE\n",
      "Closed-loop optimization of general reaction conditions for heteroaryl Suzuki-Miyaura coupling\n",
      "Add to reading list\n",
      "BY NICHOLAS H. ANGELLO VANDANA RATHORE WIKTOR BEKER AGNIESZKA WOŁOS EDWARD R. JIRA RAFAŁ ROSZAK TONY C. WU CHARLES M. SCHROEDER ALÁN ASPURU-GUZIK BARTOSZ A. GRZYBOWSKI MARTIN D. BURKE SCIENCEVOL. 378, NO. 661827 OCT 2022 : 399-405\n",
      "NO ACCESS\n",
      "General conditions for organic reactions are important but rare, and efforts to identify them usually consider only narrow regions of chemical space. Discovering more general reaction conditions requires considering vast regions of chemical space derived ...\n",
      "RESEARCH ARTICLE\n",
      "Delocalized photonic deep learning on the internet’s edge\n",
      "Add to reading list\n",
      "BY ALEXANDER SLUDDS SAUMIL BANDYOPADHYAY ZAIJUN CHEN ZHIZHEN ZHONG JARED COCHRANE LIANE BERNSTEIN DARIUS BUNANDAR P. BEN DIXON SCOTT A. HAMILTON MATTHEW STRESHINSKY [...]DIRK ENGLUND\n",
      "+5 authors\n",
      "SCIENCEVOL. 378, NO. 661720 OCT 2022 : 270-276\n",
      "NO ACCESS\n",
      "Advanced machine learning models are currently impossible to run on edge devices such as smart sensors and unmanned aerial vehicles owing to constraints on power, processing, and memory. We introduce an approach to machine learning inference based on ...\n",
      "RESEARCH ARTICLE\n",
      "NIN-like protein 7 transcription factor is a plant nitrate sensor\n",
      "Add to reading list\n",
      "BY KUN-HSIANG LIU MENGHONG LIU ZIWEI LIN ZI-FU WANG BINQING CHEN CONG LIU APING GUO MINEKO KONISHI SHUICHI YANAGISAWA GERHARD WAGNER JEN SHEEN SCIENCEVOL. 377, NO. 661322 SEP 2022 : 1419-1425\n",
      "NO ACCESS\n",
      "Nitrate is an essential nutrient and signaling molecule for plant growth. Plants sense intracellular nitrate to adjust their metabolic and growth responses. Here we identify the primary nitrate sensor in plants. We found that mutation of all seven ...\n",
      "REPORT\n",
      "A causal test of the strength of weak ties\n",
      "Add to reading list\n",
      "BY KARTHIK RAJKUMAR GUILLAUME SAINT-JACQUES IAVOR BOJINOV ERIK BRYNJOLFSSON SINAN ARAL SCIENCEVOL. 377, NO. 661215 SEP 2022 : 1304-1310\n",
      "NO ACCESS\n",
      "The authors analyzed data from multiple large-scale randomized experiments on LinkedIn’s People You May Know algorithm, which recommends new connections to LinkedIn members, to test the extent to which weak ties increased job mobility in the world’s ...\n",
      "REVIEW\n",
      "Deep-learning seismology\n",
      "Add to reading list\n",
      "BY S. MOSTAFA MOUSAVI GREGORY C. BEROZA SCIENCEVOL. 377, NO. 660712 AUG 2022\n",
      "NO ACCESS\n",
      "Seismic waves from earthquakes and other sources are used to infer the structure and properties of Earth’s interior. The availability of large-scale seismic datasets and the suitability of deep-learning techniques for seismic data processing have pushed ...\n",
      "RESEARCH ARTICLE\n",
      "Sound induces analgesia through corticothalamic circuits\n",
      "Add to reading list\n",
      "BY WENJIE ZHOU CHONGHUAN YE HAITAO WANG YU MAO WEIJIA ZHANG AN LIU CHEN-LING YANG TIANMING LI LAUREN HAYASHI WAN ZHAO [...]ZHI ZHANG\n",
      "+3 authors\n",
      "SCIENCEVOL. 377, NO. 660207 JUL 2022 : 198-204\n",
      "NO ACCESS\n",
      "Sound—including music and noise—can relieve pain in humans, but the underlying neural mechanisms remain unknown. We discovered that analgesic effects of sound depended on a low (5-decibel) signal-to-noise ratio (SNR) relative to ambient noise in mice. ...\n",
      "REVIEW\n",
      "Memristive technologies for data storage, computation, encryption, and radio-frequency communication\n",
      "Add to reading list\n",
      "BY MARIO LANZA ABU SEBASTIAN WEI D. LU MANUEL LE GALLO MENG-FAN CHANG DEJI AKINWANDE FRANCESCO M. PUGLISI HUSAM N. ALSHAREEF MING LIU JUAN B. ROLDAN SCIENCEVOL. 376, NO. 659703 JUN 2022\n",
      "NO ACCESS\n",
      "Memristive devices, which combine a resistor with memory functions such that voltage pulses can change their resistance (and hence their memory state) in a nonvolatile manner, are beginning to be implemented in integrated circuits for memory applications. ...\n",
      "REPORT\n",
      "Relaxor ferroelectric polymer exhibits ultrahigh electromechanical coupling at low electric field\n",
      "Add to reading list\n",
      "BY XIN CHEN HANCHENG QIN XIAOSHI QIAN WENYI ZHU BO LI BING ZHANG WENCHANG LU RUIPENG LI SHIHAI ZHANG LEI ZHU [...]Q. M. ZHANG\n",
      "+2 authors\n",
      "SCIENCEVOL. 375, NO. 658724 MAR 2022 : 1418-1422\n",
      "NO ACCESS\n",
      "Electromechanical (EM) coupling—the conversion of energy between electric and mechanical forms—in ferroelectrics has been used for a broad range of applications. Ferroelectric polymers have weak EM coupling that severely limits their usefulness for ...\n",
      "REVIEW\n",
      "Early detection of cancer\n",
      "Add to reading list\n",
      "BY DAVID CROSBY SANGEETA BHATIA KEVIN M. BRINDLE LISA M. COUSSENS CAROLINE DIVE MARK EMBERTON SADIK ESENER REBECCA C. FITZGERALD SANJIV S. GAMBHIR PETER KUHN [...]SHANKAR BALASUBRAMANIAN\n",
      "+1 authors\n",
      "SCIENCEVOL. 375, NO. 658618 MAR 2022\n",
      "NO ACCESS\n",
      "Survival improves when cancer is detected early. However, ~50% of cancers are at an advanced stage when diagnosed. Early detection of cancer or precancerous change allows early intervention to try to slow or prevent cancer development and lethality. To ...\n",
      "REPORT\n",
      "Tracking the sliding of grain boundaries at the atomic scale\n",
      "Add to reading list\n",
      "BY LIHUA WANG YIN ZHANG ZHI ZENG HAO ZHOU JIAN HE PAN LIU MINGWEI CHEN JIAN HAN DAVID J. SROLOVITZ JIAO TENG [...]XIAODONG HAN\n",
      "+9 authors\n",
      "SCIENCEVOL. 375, NO. 658617 MAR 2022 : 1261-1265\n",
      "NO ACCESS\n",
      "Grain boundaries (GBs) play an important role in the mechanical behavior of polycrystalline materials. Despite decades of investigation, the atomic-scale dynamic processes of GB deformation remain elusive, particularly for the GBs in polycrystals, which ...\n",
      "RESEARCH ARTICLE\n",
      "Reducing adverse impacts of Amazon hydropower expansion\n",
      "Add to reading list\n",
      "BY ALEXANDER S. FLECKER QINRU SHI RAFAEL M. ALMEIDA HÉCTOR ANGARITA JONATHAN M. GOMES-SELMAN ROOSEVELT GARCÍA-VILLACORTA SURESH A. SETHI STEVEN A. THOMAS N. LEROY POFF BRUCE R. FORSBERG [...]CARLA P. GOMES\n",
      "+29 authors\n",
      "SCIENCEVOL. 375, NO. 658217 FEB 2022 : 753-760\n",
      "NO ACCESS\n",
      "Proposed hydropower dams at more than 350 sites throughout the Amazon require strategic evaluation of trade-offs between the numerous ecosystem services provided by Earth’s largest and most biodiverse river basin. These services are spatially variable, ...\n",
      "RESEARCH ARTICLE\n",
      "Geometry of sequence working memory in macaque prefrontal cortex\n",
      "Add to reading list\n",
      "BY YANG XIE PEIYAO HU JUNRU LI JINGWEN CHEN WEIBIN SONG XIAO-JING WANG TIANMING YANG STANISLAS DEHAENE SHIMING TANG BIN MIN LIPING WANG SCIENCEVOL. 375, NO. 658110 FEB 2022 : 632-639\n",
      "NO ACCESS\n",
      "How the brain stores a sequence in memory remains largely unknown. We investigated the neural code underlying sequence working memory using two-photon calcium imaging to record thousands of neurons in the prefrontal cortex of macaque monkeys memorizing ...\n",
      "RESEARCH ARTICLE\n",
      "Reconfigurable perovskite nickelate electronics for artificial intelligence\n",
      "Add to reading list\n",
      "BY HAI-TIAN ZHANG TAE JOON PARK A. N. M. NAFIUL ISLAM DAT S. J. TRAN SUKRITI MANNA QI WANG SANDIP MONDAL HAOMING YU SUVO BANIK SHAOBO CHENG [...]SHRIRAM RAMANATHAN\n",
      "+9 authors\n",
      "SCIENCEVOL. 375, NO. 658003 FEB 2022 : 533-539\n",
      "NO ACCESS\n",
      "Reconfigurable devices offer the ability to program electronic circuits on demand. In this work, we demonstrated on-demand creation of artificial neurons, synapses, and memory capacitors in post-fabricated perovskite NdNiO3 devices that can be simply ...\n",
      "REPORT\n",
      "Three-dimensional direct lithography of stable perovskite nanocrystals in glass\n",
      "Add to reading list\n",
      "BY KE SUN DEZHI TAN XINYUAN FANG XINTAO XIA DAJUN LIN JUAN SONG YONGHONG LIN ZHAOJUN LIU MIN GU YUANZHENG YUE JIANRONG QIU SCIENCEVOL. 375, NO. 657820 JAN 2022 : 307-310\n",
      "NO ACCESS\n",
      "Material composition engineering and device fabrication of perovskite nanocrystals (PNCs) in solution can introduce organic contamination and entail several synthetic, processing, and stabilization steps. We report three-dimensional (3D) direct ...\n"
     ]
    }
   ],
   "source": [
    "import multiprocessing\n",
    "from joblib import Parallel, delayed\n",
    "\n",
    "def crawl_one_page(page_url):\n",
    "    driver = uc.Chrome()\n",
    "    driver.get(page_url)\n",
    "    time.sleep(20)\n",
    "\n",
    "    papers = driver.find_elements(By.CLASS_NAME, 'card.pb-3.mb-4.border-bottom')\n",
    "    parallel = Parallel(n_jobs=multiprocessing.cpu_count(), backend='multiprocessing',verbose=40)\n",
    "    temp = parallel(delayed(crawl_one_paper)(paper) for paper in papers)\n",
    "\n",
    "    driver.quit()\n",
    "    return temp\n",
    "\n",
    "def crawl_all():\n",
    "    base_url = 'https://www.science.org/action/doSearch?AllField=Artificial+Intelligence&SeriesKey=science&ConceptID=505154&AfterYear=1997&BeforeYear=2023&queryID=38%2F3168548807&sortBy=Earliest&startPage='\n",
    "    page_item = driver.find_elements(By.CLASS_NAME, 'page-item')\n",
    "    page_num = len(page_item) - 2\n",
    "    res = []\n",
    "    for idx in page_num:\n",
    "        page_url = base_url+str(idx)\n",
    "        page_res = crawl_one_page(page_url=page_url)\n",
    "        res.extend(page_res)\n",
    "    return res\n",
    "\n"
   ]
  },
  {
   "cell_type": "code",
   "execution_count": null,
   "metadata": {},
   "outputs": [],
   "source": []
  },
  {
   "cell_type": "code",
   "execution_count": 22,
   "metadata": {},
   "outputs": [
    {
     "ename": "NoSuchElementException",
     "evalue": "Message: no such element: Unable to locate element: {\"method\":\"css selector\",\"selector\":\".page-item__arrow--next page-item\"}\n  (Session info: chrome=110.0.5481.178)\nStacktrace:\nBacktrace:\n\t(No symbol) [0x010937D3]\n\t(No symbol) [0x01028B81]\n\t(No symbol) [0x00F2B36D]\n\t(No symbol) [0x00F5D382]\n\t(No symbol) [0x00F5D4BB]\n\t(No symbol) [0x00F93302]\n\t(No symbol) [0x00F7B464]\n\t(No symbol) [0x00F91215]\n\t(No symbol) [0x00F7B216]\n\t(No symbol) [0x00F50D97]\n\t(No symbol) [0x00F5253D]\n\tGetHandleVerifier [0x0130ABF2+2510930]\n\tGetHandleVerifier [0x01338EC1+2700065]\n\tGetHandleVerifier [0x0133C86C+2714828]\n\tGetHandleVerifier [0x01143480+645344]\n\t(No symbol) [0x01030FD2]\n\t(No symbol) [0x01036C68]\n\t(No symbol) [0x01036D4B]\n\t(No symbol) [0x01040D6B]\n\tBaseThreadInitThunk [0x757900F9+25]\n\tRtlGetAppContainerNamedObjectPath [0x77887BBE+286]\n\tRtlGetAppContainerNamedObjectPath [0x77887B8E+238]\n",
     "output_type": "error",
     "traceback": [
      "\u001b[1;31m---------------------------------------------------------------------------\u001b[0m",
      "\u001b[1;31mNoSuchElementException\u001b[0m                    Traceback (most recent call last)",
      "\u001b[1;32m~\\AppData\\Local\\Temp/ipykernel_93380/2870587322.py\u001b[0m in \u001b[0;36m<module>\u001b[1;34m\u001b[0m\n\u001b[1;32m----> 1\u001b[1;33m \u001b[0mtemp\u001b[0m \u001b[1;33m=\u001b[0m \u001b[0mdriver\u001b[0m\u001b[1;33m.\u001b[0m\u001b[0mfind_element\u001b[0m\u001b[1;33m(\u001b[0m\u001b[0mBy\u001b[0m\u001b[1;33m.\u001b[0m\u001b[0mCLASS_NAME\u001b[0m\u001b[1;33m,\u001b[0m \u001b[1;34m'page-item__arrow--next page-item'\u001b[0m\u001b[1;33m)\u001b[0m\u001b[1;33m\u001b[0m\u001b[1;33m\u001b[0m\u001b[0m\n\u001b[0m",
      "\u001b[1;32mf:\\Packages\\Anaconda\\lib\\site-packages\\selenium\\webdriver\\remote\\webdriver.py\u001b[0m in \u001b[0;36mfind_element\u001b[1;34m(self, by, value)\u001b[0m\n\u001b[0;32m    828\u001b[0m             \u001b[0mvalue\u001b[0m \u001b[1;33m=\u001b[0m \u001b[1;34mf'[name=\"{value}\"]'\u001b[0m\u001b[1;33m\u001b[0m\u001b[1;33m\u001b[0m\u001b[0m\n\u001b[0;32m    829\u001b[0m \u001b[1;33m\u001b[0m\u001b[0m\n\u001b[1;32m--> 830\u001b[1;33m         \u001b[1;32mreturn\u001b[0m \u001b[0mself\u001b[0m\u001b[1;33m.\u001b[0m\u001b[0mexecute\u001b[0m\u001b[1;33m(\u001b[0m\u001b[0mCommand\u001b[0m\u001b[1;33m.\u001b[0m\u001b[0mFIND_ELEMENT\u001b[0m\u001b[1;33m,\u001b[0m \u001b[1;33m{\u001b[0m\u001b[1;34m\"using\"\u001b[0m\u001b[1;33m:\u001b[0m \u001b[0mby\u001b[0m\u001b[1;33m,\u001b[0m \u001b[1;34m\"value\"\u001b[0m\u001b[1;33m:\u001b[0m \u001b[0mvalue\u001b[0m\u001b[1;33m}\u001b[0m\u001b[1;33m)\u001b[0m\u001b[1;33m[\u001b[0m\u001b[1;34m\"value\"\u001b[0m\u001b[1;33m]\u001b[0m\u001b[1;33m\u001b[0m\u001b[1;33m\u001b[0m\u001b[0m\n\u001b[0m\u001b[0;32m    831\u001b[0m \u001b[1;33m\u001b[0m\u001b[0m\n\u001b[0;32m    832\u001b[0m     \u001b[1;32mdef\u001b[0m \u001b[0mfind_elements\u001b[0m\u001b[1;33m(\u001b[0m\u001b[0mself\u001b[0m\u001b[1;33m,\u001b[0m \u001b[0mby\u001b[0m\u001b[1;33m=\u001b[0m\u001b[0mBy\u001b[0m\u001b[1;33m.\u001b[0m\u001b[0mID\u001b[0m\u001b[1;33m,\u001b[0m \u001b[0mvalue\u001b[0m\u001b[1;33m:\u001b[0m \u001b[0mOptional\u001b[0m\u001b[1;33m[\u001b[0m\u001b[0mstr\u001b[0m\u001b[1;33m]\u001b[0m \u001b[1;33m=\u001b[0m \u001b[1;32mNone\u001b[0m\u001b[1;33m)\u001b[0m \u001b[1;33m->\u001b[0m \u001b[0mList\u001b[0m\u001b[1;33m[\u001b[0m\u001b[0mWebElement\u001b[0m\u001b[1;33m]\u001b[0m\u001b[1;33m:\u001b[0m\u001b[1;33m\u001b[0m\u001b[1;33m\u001b[0m\u001b[0m\n",
      "\u001b[1;32mf:\\Packages\\Anaconda\\lib\\site-packages\\selenium\\webdriver\\remote\\webdriver.py\u001b[0m in \u001b[0;36mexecute\u001b[1;34m(self, driver_command, params)\u001b[0m\n\u001b[0;32m    438\u001b[0m         \u001b[0mresponse\u001b[0m \u001b[1;33m=\u001b[0m \u001b[0mself\u001b[0m\u001b[1;33m.\u001b[0m\u001b[0mcommand_executor\u001b[0m\u001b[1;33m.\u001b[0m\u001b[0mexecute\u001b[0m\u001b[1;33m(\u001b[0m\u001b[0mdriver_command\u001b[0m\u001b[1;33m,\u001b[0m \u001b[0mparams\u001b[0m\u001b[1;33m)\u001b[0m\u001b[1;33m\u001b[0m\u001b[1;33m\u001b[0m\u001b[0m\n\u001b[0;32m    439\u001b[0m         \u001b[1;32mif\u001b[0m \u001b[0mresponse\u001b[0m\u001b[1;33m:\u001b[0m\u001b[1;33m\u001b[0m\u001b[1;33m\u001b[0m\u001b[0m\n\u001b[1;32m--> 440\u001b[1;33m             \u001b[0mself\u001b[0m\u001b[1;33m.\u001b[0m\u001b[0merror_handler\u001b[0m\u001b[1;33m.\u001b[0m\u001b[0mcheck_response\u001b[0m\u001b[1;33m(\u001b[0m\u001b[0mresponse\u001b[0m\u001b[1;33m)\u001b[0m\u001b[1;33m\u001b[0m\u001b[1;33m\u001b[0m\u001b[0m\n\u001b[0m\u001b[0;32m    441\u001b[0m             \u001b[0mresponse\u001b[0m\u001b[1;33m[\u001b[0m\u001b[1;34m\"value\"\u001b[0m\u001b[1;33m]\u001b[0m \u001b[1;33m=\u001b[0m \u001b[0mself\u001b[0m\u001b[1;33m.\u001b[0m\u001b[0m_unwrap_value\u001b[0m\u001b[1;33m(\u001b[0m\u001b[0mresponse\u001b[0m\u001b[1;33m.\u001b[0m\u001b[0mget\u001b[0m\u001b[1;33m(\u001b[0m\u001b[1;34m\"value\"\u001b[0m\u001b[1;33m,\u001b[0m \u001b[1;32mNone\u001b[0m\u001b[1;33m)\u001b[0m\u001b[1;33m)\u001b[0m\u001b[1;33m\u001b[0m\u001b[1;33m\u001b[0m\u001b[0m\n\u001b[0;32m    442\u001b[0m             \u001b[1;32mreturn\u001b[0m \u001b[0mresponse\u001b[0m\u001b[1;33m\u001b[0m\u001b[1;33m\u001b[0m\u001b[0m\n",
      "\u001b[1;32mf:\\Packages\\Anaconda\\lib\\site-packages\\selenium\\webdriver\\remote\\errorhandler.py\u001b[0m in \u001b[0;36mcheck_response\u001b[1;34m(self, response)\u001b[0m\n\u001b[0;32m    243\u001b[0m                 \u001b[0malert_text\u001b[0m \u001b[1;33m=\u001b[0m \u001b[0mvalue\u001b[0m\u001b[1;33m[\u001b[0m\u001b[1;34m\"alert\"\u001b[0m\u001b[1;33m]\u001b[0m\u001b[1;33m.\u001b[0m\u001b[0mget\u001b[0m\u001b[1;33m(\u001b[0m\u001b[1;34m\"text\"\u001b[0m\u001b[1;33m)\u001b[0m\u001b[1;33m\u001b[0m\u001b[1;33m\u001b[0m\u001b[0m\n\u001b[0;32m    244\u001b[0m             \u001b[1;32mraise\u001b[0m \u001b[0mexception_class\u001b[0m\u001b[1;33m(\u001b[0m\u001b[0mmessage\u001b[0m\u001b[1;33m,\u001b[0m \u001b[0mscreen\u001b[0m\u001b[1;33m,\u001b[0m \u001b[0mstacktrace\u001b[0m\u001b[1;33m,\u001b[0m \u001b[0malert_text\u001b[0m\u001b[1;33m)\u001b[0m  \u001b[1;31m# type: ignore[call-arg]  # mypy is not smart enough here\u001b[0m\u001b[1;33m\u001b[0m\u001b[1;33m\u001b[0m\u001b[0m\n\u001b[1;32m--> 245\u001b[1;33m         \u001b[1;32mraise\u001b[0m \u001b[0mexception_class\u001b[0m\u001b[1;33m(\u001b[0m\u001b[0mmessage\u001b[0m\u001b[1;33m,\u001b[0m \u001b[0mscreen\u001b[0m\u001b[1;33m,\u001b[0m \u001b[0mstacktrace\u001b[0m\u001b[1;33m)\u001b[0m\u001b[1;33m\u001b[0m\u001b[1;33m\u001b[0m\u001b[0m\n\u001b[0m",
      "\u001b[1;31mNoSuchElementException\u001b[0m: Message: no such element: Unable to locate element: {\"method\":\"css selector\",\"selector\":\".page-item__arrow--next page-item\"}\n  (Session info: chrome=110.0.5481.178)\nStacktrace:\nBacktrace:\n\t(No symbol) [0x010937D3]\n\t(No symbol) [0x01028B81]\n\t(No symbol) [0x00F2B36D]\n\t(No symbol) [0x00F5D382]\n\t(No symbol) [0x00F5D4BB]\n\t(No symbol) [0x00F93302]\n\t(No symbol) [0x00F7B464]\n\t(No symbol) [0x00F91215]\n\t(No symbol) [0x00F7B216]\n\t(No symbol) [0x00F50D97]\n\t(No symbol) [0x00F5253D]\n\tGetHandleVerifier [0x0130ABF2+2510930]\n\tGetHandleVerifier [0x01338EC1+2700065]\n\tGetHandleVerifier [0x0133C86C+2714828]\n\tGetHandleVerifier [0x01143480+645344]\n\t(No symbol) [0x01030FD2]\n\t(No symbol) [0x01036C68]\n\t(No symbol) [0x01036D4B]\n\t(No symbol) [0x01040D6B]\n\tBaseThreadInitThunk [0x757900F9+25]\n\tRtlGetAppContainerNamedObjectPath [0x77887BBE+286]\n\tRtlGetAppContainerNamedObjectPath [0x77887B8E+238]\n"
     ]
    }
   ],
   "source": [
    "\n",
    "for page_idx in range(page_num - 1):\n",
    "    driver.find_element(By.XPATH, '//*[@id=\"pb-page-content\"]/div/div/main/section[1]/div/div[1]/div/div/div[2]/div[1]/nav/ul/li[9]').click()\n",
    "    "
   ]
  },
  {
   "cell_type": "code",
   "execution_count": null,
   "metadata": {},
   "outputs": [],
   "source": []
  }
 ],
 "metadata": {
  "kernelspec": {
   "display_name": "Python 3.9.7 ('base')",
   "language": "python",
   "name": "python3"
  },
  "language_info": {
   "codemirror_mode": {
    "name": "ipython",
    "version": 3
   },
   "file_extension": ".py",
   "mimetype": "text/x-python",
   "name": "python",
   "nbconvert_exporter": "python",
   "pygments_lexer": "ipython3",
   "version": "3.9.7"
  },
  "orig_nbformat": 4,
  "vscode": {
   "interpreter": {
    "hash": "aa27f4dee5ed184bf5bfca6b42f79bcb3320fa1e6dad67da0936af612a530d96"
   }
  }
 },
 "nbformat": 4,
 "nbformat_minor": 2
}
